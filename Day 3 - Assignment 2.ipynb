{
 "cells": [
  {
   "cell_type": "code",
   "execution_count": 1,
   "metadata": {},
   "outputs": [
    {
     "name": "stdout",
     "output_type": "stream",
     "text": [
      "Enter the Altitude = 1000\n",
      "1000\n",
      "Pilot Can Land Safely\n"
     ]
    }
   ],
   "source": [
    "# Question 1 of Assignment 3\n",
    "\n",
    "alt = input(\"Enter the Altitude = \")\n",
    "alt = int(alt)\n",
    "print(alt)\n",
    "if alt <= 1000:\n",
    "    print(\"Pilot Can Land Safely\")\n",
    "elif alt <= 5000:\n",
    "    print(\"Bring the Alitude to 1000ft\")\n",
    "else:\n",
    "    print(\"Turn Around and Try Again..\")"
   ]
  },
  {
   "cell_type": "code",
   "execution_count": 2,
   "metadata": {},
   "outputs": [
    {
     "name": "stdout",
     "output_type": "stream",
     "text": [
      "Enter the Altitude4745\n",
      "4745\n",
      "Bring the Alitude to 1000ft\n"
     ]
    }
   ],
   "source": [
    "alt = input(\"Enter the Altitude\")\n",
    "alt = int(alt)\n",
    "print(alt)\n",
    "if alt <= 1000:\n",
    "    print(\"Pilot Can Land Safely\")\n",
    "elif alt <= 5000:\n",
    "    print(\"Bring the Alitude to 1000ft\")\n",
    "else:\n",
    "    print(\"Turn Around and Try Again..\")"
   ]
  },
  {
   "cell_type": "code",
   "execution_count": 3,
   "metadata": {},
   "outputs": [
    {
     "name": "stdout",
     "output_type": "stream",
     "text": [
      "Enter the Altitude5454\n",
      "5454\n",
      "Turn Around and Try Again..\n"
     ]
    }
   ],
   "source": [
    "alt = input(\"Enter the Altitude\")\n",
    "alt = int(alt)\n",
    "print(alt)\n",
    "if alt <= 1000:\n",
    "    print(\"Pilot Can Land Safely\")\n",
    "elif alt <= 5000:\n",
    "    print(\"Bring the Alitude to 1000ft\")\n",
    "else:\n",
    "    print(\"Turn Around and Try Again..\")"
   ]
  },
  {
   "cell_type": "code",
   "execution_count": 3,
   "metadata": {},
   "outputs": [
    {
     "name": "stdout",
     "output_type": "stream",
     "text": [
      " 2   3   5   7   11   13   17   19   23   29   31   37   41   43   47   53   59   61   67   71   73   79   83   89   97   101   103   107   109   113   127   131   137   139   149   151   157   163   167   173   179   181   191   193   197   199  "
     ]
    }
   ],
   "source": [
    "# Question 2 of Assignment 3\n",
    "# Python Program to print Prime Numbers from 1 to 200\n",
    " \n",
    "for Number in range (1, 200):\n",
    "    count = 0\n",
    "    for i in range(2, (Number//2 + 1)):\n",
    "        if(Number % i == 0):\n",
    "            count = count + 1\n",
    "            break\n",
    "\n",
    "    if (count == 0 and Number != 1):\n",
    "        print(\" %d\" %Number, end = '  ')"
   ]
  },
  {
   "cell_type": "code",
   "execution_count": null,
   "metadata": {},
   "outputs": [],
   "source": []
  }
 ],
 "metadata": {
  "kernelspec": {
   "display_name": "Python 3",
   "language": "python",
   "name": "python3"
  },
  "language_info": {
   "codemirror_mode": {
    "name": "ipython",
    "version": 3
   },
   "file_extension": ".py",
   "mimetype": "text/x-python",
   "name": "python",
   "nbconvert_exporter": "python",
   "pygments_lexer": "ipython3",
   "version": "3.8.3"
  }
 },
 "nbformat": 4,
 "nbformat_minor": 4
}
